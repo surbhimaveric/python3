{
  "nbformat": 4,
  "nbformat_minor": 0,
  "metadata": {
    "colab": {
      "provenance": [],
      "authorship_tag": "ABX9TyP4Pbyu4hiLlTn5d3KnoCEV",
      "include_colab_link": true
    },
    "kernelspec": {
      "name": "python3",
      "display_name": "Python 3"
    },
    "language_info": {
      "name": "python"
    }
  },
  "cells": [
    {
      "cell_type": "markdown",
      "metadata": {
        "id": "view-in-github",
        "colab_type": "text"
      },
      "source": [
        "<a href=\"https://colab.research.google.com/github/surbhimaveric/python3/blob/main/Assignment_2_problem_2.ipynb\" target=\"_parent\"><img src=\"https://colab.research.google.com/assets/colab-badge.svg\" alt=\"Open In Colab\"/></a>"
      ]
    },
    {
      "cell_type": "code",
      "execution_count": 2,
      "metadata": {
        "colab": {
          "base_uri": "https://localhost:8080/"
        },
        "id": "1_zkzuFp5vAv",
        "outputId": "b2e5c353-b327-4dea-a012-2c038900ebc6"
      },
      "outputs": [
        {
          "output_type": "stream",
          "name": "stdout",
          "text": [
            "Unique elements: [1, 2, 3, 4, 5]\n"
          ]
        }
      ],
      "source": [
        "def find_unique_elements(lst):\n",
        "    unique_list = []\n",
        "    for num in lst:\n",
        "        if num not in unique_list:\n",
        "            unique_list.append(num)\n",
        "    return unique_list\n",
        "L = [1, 1, 1, 1, 2, 2, 3, 3, 3, 3, 4, 5]\n",
        "unique_elements = find_unique_elements(L)\n",
        "print(\"Unique elements:\", unique_elements)"
      ]
    },
    {
      "cell_type": "code",
      "source": [
        "def check_number_existence(lst, number):\n",
        "    for item in lst:\n",
        "        if isinstance(item, list):\n",
        "            if check_number_existence(item, number):\n",
        "                return True\n",
        "        elif item == number:\n",
        "            return True\n",
        "    return False\n",
        "L = [1, 2, 3, 4, [3, 4]]\n",
        "\n",
        "number = int(input(\"Enter a number to check: \"))\n",
        "\n",
        "exists = check_number_existence(L, number)\n",
        "\n",
        "if exists:\n",
        "    print(f\"The number {number} exists in the inner list.\")\n",
        "else:\n",
        "    print(f\"The number {number} does not exist in the inner list.\")"
      ],
      "metadata": {
        "colab": {
          "base_uri": "https://localhost:8080/"
        },
        "id": "7Z2jkdIo6qpC",
        "outputId": "295468b0-d45b-475f-ddf7-9d52f257ec63"
      },
      "execution_count": 3,
      "outputs": [
        {
          "output_type": "stream",
          "name": "stdout",
          "text": [
            "Enter a number to check: 6\n",
            "The number 6 does not exist in the inner list.\n"
          ]
        }
      ]
    },
    {
      "cell_type": "code",
      "source": [],
      "metadata": {
        "id": "vVQWnUE36vKv"
      },
      "execution_count": null,
      "outputs": []
    }
  ]
}