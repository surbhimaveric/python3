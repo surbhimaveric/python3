{
  "nbformat": 4,
  "nbformat_minor": 0,
  "metadata": {
    "colab": {
      "provenance": [],
      "authorship_tag": "ABX9TyP4RYLUeUxSUAqSIWO4kJZq",
      "include_colab_link": true
    },
    "kernelspec": {
      "name": "python3",
      "display_name": "Python 3"
    },
    "language_info": {
      "name": "python"
    }
  },
  "cells": [
    {
      "cell_type": "markdown",
      "metadata": {
        "id": "view-in-github",
        "colab_type": "text"
      },
      "source": [
        "<a href=\"https://colab.research.google.com/github/surbhimaveric/python3/blob/main/assignment_1_prb2.ipynb\" target=\"_parent\"><img src=\"https://colab.research.google.com/assets/colab-badge.svg\" alt=\"Open In Colab\"/></a>"
      ]
    },
    {
      "cell_type": "code",
      "execution_count": 1,
      "metadata": {
        "colab": {
          "base_uri": "https://localhost:8080/"
        },
        "id": "Jh-Mfu8kxaLs",
        "outputId": "9c0ee4c6-fa07-4736-c021-7d6858af90fb"
      },
      "outputs": [
        {
          "output_type": "stream",
          "name": "stdout",
          "text": [
            "Enter the Deposit Amount:10000\n",
            "Enter the withdrawl Amount:5000\n",
            "\n",
            "\n",
            "\n",
            "\n",
            "log_message: D: 10000  , W: 5000\toutput: 5000\n"
          ]
        }
      ],
      "source": [
        "Bal = 0\n",
        "D = input(\"Enter the Deposit Amount:\")\n",
        "W = input(\"Enter the withdrawl Amount:\")\n",
        "\n",
        "for e in D:\n",
        "  for f in W:\n",
        "    if int(e)> int(Bal):\n",
        "     Totalamt= int(Bal) + int(D)\n",
        "     Bal +=1\n",
        "    elif int(f) < int(Bal):\n",
        "     CurrBal= int(Bal) - int(W)\n",
        "    else:\n",
        "     print(\"\")\n",
        "\n",
        "console_input= int(D)- int(W)\n",
        "print(\"log_message:\", f\"D: {D} \", ',',f\"W: {W}\", end=\"\\t\")\n",
        "print(f\"output: {console_input}\")"
      ]
    }
  ]
}