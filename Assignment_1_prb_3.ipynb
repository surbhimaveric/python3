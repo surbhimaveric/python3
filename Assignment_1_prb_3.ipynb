{
  "nbformat": 4,
  "nbformat_minor": 0,
  "metadata": {
    "colab": {
      "provenance": [],
      "authorship_tag": "ABX9TyP5nB5SNhTqFcwQEY2QHLP8",
      "include_colab_link": true
    },
    "kernelspec": {
      "name": "python3",
      "display_name": "Python 3"
    },
    "language_info": {
      "name": "python"
    }
  },
  "cells": [
    {
      "cell_type": "markdown",
      "metadata": {
        "id": "view-in-github",
        "colab_type": "text"
      },
      "source": [
        "<a href=\"https://colab.research.google.com/github/surbhimaveric/python3/blob/main/Assignment_1_prb_3.ipynb\" target=\"_parent\"><img src=\"https://colab.research.google.com/assets/colab-badge.svg\" alt=\"Open In Colab\"/></a>"
      ]
    },
    {
      "cell_type": "code",
      "execution_count": 1,
      "metadata": {
        "colab": {
          "base_uri": "https://localhost:8080/"
        },
        "id": "y-FgR3Ss2ru0",
        "outputId": "4c8f7a13-d243-4446-f884-9d4ee9771ec5"
      },
      "outputs": [
        {
          "output_type": "stream",
          "name": "stdout",
          "text": [
            "Enter the number of calls: 45\n",
            "Monthly Telephone Bill: Rs. 200\n"
          ]
        }
      ],
      "source": [
        "num_calls = int(input(\"Enter the number of calls: \"))\n",
        "if num_calls <= 100:\n",
        "    bill = 200\n",
        "elif num_calls <= 150:\n",
        "    bill = 200 + (num_calls-100)*0.60\n",
        "elif num_calls <= 200:\n",
        "    bill = 200 + 50 * 0.60 + (num_calls-150)*0.50\n",
        "else:\n",
        "    bill = 200 + 50 * 0.60 + 50 * 0.50 + (num_calls-200)*0.40\n",
        "print(\"Monthly Telephone Bill: Rs.\", bill)"
      ]
    },
    {
      "cell_type": "code",
      "source": [],
      "metadata": {
        "id": "lzwv_wxX2tZj"
      },
      "execution_count": null,
      "outputs": []
    }
  ]
}