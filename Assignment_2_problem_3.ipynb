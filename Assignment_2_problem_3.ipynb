{
  "nbformat": 4,
  "nbformat_minor": 0,
  "metadata": {
    "colab": {
      "provenance": [],
      "authorship_tag": "ABX9TyMm6p+0aggbfIMZm6J8yy0n",
      "include_colab_link": true
    },
    "kernelspec": {
      "name": "python3",
      "display_name": "Python 3"
    },
    "language_info": {
      "name": "python"
    }
  },
  "cells": [
    {
      "cell_type": "markdown",
      "metadata": {
        "id": "view-in-github",
        "colab_type": "text"
      },
      "source": [
        "<a href=\"https://colab.research.google.com/github/surbhimaveric/python3/blob/main/Assignment_2_problem_3.ipynb\" target=\"_parent\"><img src=\"https://colab.research.google.com/assets/colab-badge.svg\" alt=\"Open In Colab\"/></a>"
      ]
    },
    {
      "cell_type": "code",
      "execution_count": 1,
      "metadata": {
        "colab": {
          "base_uri": "https://localhost:8080/"
        },
        "id": "MO0OPJX07xSQ",
        "outputId": "dcb401c0-cb1c-4f26-f5c0-4b24f7437ee7"
      },
      "outputs": [
        {
          "output_type": "stream",
          "name": "stdout",
          "text": [
            "Sum of the numbers in the list: 20\n"
          ]
        }
      ],
      "source": [
        "def sum_list(numbers):\n",
        "    total = 0\n",
        "    for num in numbers:\n",
        "        total += num\n",
        "    return total\n",
        "\n",
        "# Test the function\n",
        "sample_list = [8, 2, 3, 0, 7]\n",
        "result = sum_list(sample_list)\n",
        "print(\"Sum of the numbers in the list:\", result)"
      ]
    },
    {
      "cell_type": "code",
      "source": [
        "def reverse_string(string):\n",
        "    return string[::-1]\n",
        "\n",
        "sample_string = \"1234abcd\"\n",
        "reversed_string = reverse_string(sample_string)\n",
        "print(\"Reversed string:\", reversed_string)"
      ],
      "metadata": {
        "colab": {
          "base_uri": "https://localhost:8080/"
        },
        "id": "dQkR1lJU8muV",
        "outputId": "3fc12d6c-59f5-4fb5-9a17-0ea7a2bf85e8"
      },
      "execution_count": 2,
      "outputs": [
        {
          "output_type": "stream",
          "name": "stdout",
          "text": [
            "Reversed string: dcba4321\n"
          ]
        }
      ]
    },
    {
      "cell_type": "code",
      "source": [
        "def count_upper_lower(string):\n",
        "    upper_count = 0\n",
        "    lower_count = 0\n",
        "\n",
        "    for char in string:\n",
        "        if char.isupper():\n",
        "            upper_count += 1\n",
        "        elif char.islower():\n",
        "            lower_count += 1\n",
        "\n",
        "    return upper_count, lower_count\n",
        "\n",
        "sample_string = 'The quick Brow Fox'\n",
        "upper, lower = count_upper_lower(sample_string)\n",
        "print(\"No. of Upper case characters:\", upper)\n",
        "print(\"No. of Lower case characters:\", lower)"
      ],
      "metadata": {
        "colab": {
          "base_uri": "https://localhost:8080/"
        },
        "id": "QT8UXaNi8smn",
        "outputId": "fed96fa4-09fd-455a-e931-a28884058b6f"
      },
      "execution_count": 3,
      "outputs": [
        {
          "output_type": "stream",
          "name": "stdout",
          "text": [
            "No. of Upper case characters: 3\n",
            "No. of Lower case characters: 12\n"
          ]
        }
      ]
    },
    {
      "cell_type": "code",
      "source": [],
      "metadata": {
        "id": "5g1dEF5V8wus"
      },
      "execution_count": null,
      "outputs": []
    }
  ]
}