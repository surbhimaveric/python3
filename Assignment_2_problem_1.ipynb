{
  "nbformat": 4,
  "nbformat_minor": 0,
  "metadata": {
    "colab": {
      "provenance": [],
      "authorship_tag": "ABX9TyNYmx7Okguy1KIOooNlE01r",
      "include_colab_link": true
    },
    "kernelspec": {
      "name": "python3",
      "display_name": "Python 3"
    },
    "language_info": {
      "name": "python"
    }
  },
  "cells": [
    {
      "cell_type": "markdown",
      "metadata": {
        "id": "view-in-github",
        "colab_type": "text"
      },
      "source": [
        "<a href=\"https://colab.research.google.com/github/surbhimaveric/python3/blob/main/Assignment_2_problem_1.ipynb\" target=\"_parent\"><img src=\"https://colab.research.google.com/assets/colab-badge.svg\" alt=\"Open In Colab\"/></a>"
      ]
    },
    {
      "cell_type": "code",
      "execution_count": 1,
      "metadata": {
        "colab": {
          "base_uri": "https://localhost:8080/"
        },
        "id": "4Jm1A_tG4NAn",
        "outputId": "90b75437-7dd1-40e3-9ec7-ca4a34cab0a0"
      },
      "outputs": [
        {
          "output_type": "stream",
          "name": "stdout",
          "text": [
            "['phone.jpg', 'views.jpg', 'bear.jpg']\n"
          ]
        }
      ],
      "source": [
        "filenames=['views.jpg','bear.jpg','ball.png']\n",
        "filenames.insert(0,'phone.jpg')\n",
        "del filenames[3]\n",
        "print(filenames)"
      ]
    },
    {
      "cell_type": "code",
      "source": [
        "def check_number_existence(lst, number):\n",
        "    for item in lst:\n",
        "        if isinstance(item, list):\n",
        "            if check_number_existence(item, number):\n",
        "                return True\n",
        "        elif item == number:\n",
        "            return True\n",
        "    return False\n",
        "L = [1, 2, 3, 4, [3, 4]]\n",
        "\n",
        "number = int(input(\"Enter a number to check: \"))\n",
        "\n",
        "exists = check_number_existence(L, number)\n",
        "\n",
        "if exists:\n",
        "    print(f\"The number {number} exists in the inner list.\")\n",
        "else:\n",
        "    print(f\"The number {number} does not exist in the inner list.\")"
      ],
      "metadata": {
        "colab": {
          "base_uri": "https://localhost:8080/"
        },
        "id": "Tr1wBPN84N78",
        "outputId": "342996e1-58e0-4b43-c48b-fbc2cf10e2e1"
      },
      "execution_count": 2,
      "outputs": [
        {
          "output_type": "stream",
          "name": "stdout",
          "text": [
            "Enter a number to check: 2\n",
            "The number 2 exists in the inner list.\n"
          ]
        }
      ]
    },
    {
      "cell_type": "code",
      "source": [],
      "metadata": {
        "id": "4AdZf1kf4cbB"
      },
      "execution_count": null,
      "outputs": []
    }
  ]
}