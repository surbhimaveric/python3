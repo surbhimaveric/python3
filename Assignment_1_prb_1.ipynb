{
  "nbformat": 4,
  "nbformat_minor": 0,
  "metadata": {
    "colab": {
      "provenance": [],
      "authorship_tag": "ABX9TyOfLeNnxfKkAUTGQwkzJN99",
      "include_colab_link": true
    },
    "kernelspec": {
      "name": "python3",
      "display_name": "Python 3"
    },
    "language_info": {
      "name": "python"
    }
  },
  "cells": [
    {
      "cell_type": "markdown",
      "metadata": {
        "id": "view-in-github",
        "colab_type": "text"
      },
      "source": [
        "<a href=\"https://colab.research.google.com/github/surbhimaveric/python3/blob/main/Assignment_1_prb_1.ipynb\" target=\"_parent\"><img src=\"https://colab.research.google.com/assets/colab-badge.svg\" alt=\"Open In Colab\"/></a>"
      ]
    },
    {
      "cell_type": "code",
      "execution_count": 1,
      "metadata": {
        "colab": {
          "base_uri": "https://localhost:8080/"
        },
        "id": "tr-Fn2Ex1xLM",
        "outputId": "3f277724-e14b-497f-a3c0-25bc687c65f6"
      },
      "outputs": [
        {
          "output_type": "stream",
          "name": "stdout",
          "text": [
            "Enter a number:5\n",
            "Fizz buzz\n"
          ]
        }
      ],
      "source": [
        "x= int(input (\"Enter a number:\")\n",
        "if x % 3 and x % 5 == 0:\n",
        "    print(\"Fizz buzz\")\n",
        "elif x %5 == 0:\n",
        "    print(\"Fuzz\")\n",
        "elif x %3 == 0:\n",
        "    print(\"Fizz\")\n",
        "else:\n",
        "    print(x)"
      ]
    }
  ]
}